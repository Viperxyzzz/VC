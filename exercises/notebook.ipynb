{
 "cells": [
  {
   "cell_type": "markdown",
   "metadata": {},
   "source": [
    "# Week 1: Introduction to OpenCV"
   ]
  },
  {
   "cell_type": "code",
   "execution_count": 38,
   "metadata": {},
   "outputs": [],
   "source": [
    "# # Requirements for this tutorial\n",
    "# ! pip install opencv-python\n",
    "# ! pip install numpy"
   ]
  },
  {
   "cell_type": "code",
   "execution_count": 39,
   "metadata": {},
   "outputs": [],
   "source": [
    "# # If you prefer, you can convert this notebook to a Python script by uncommenting the following command\n",
    "# ! pip install nbconvert\n",
    "# ! jupyter nbconvert --to script tutorial-week1.ipynb"
   ]
  },
  {
   "cell_type": "code",
   "execution_count": 2,
   "metadata": {},
   "outputs": [],
   "source": [
    "import cv2\n",
    "import numpy as np\n",
    "import os\n"
   ]
  },
  {
   "cell_type": "markdown",
   "metadata": {},
   "source": [
    "1. Images – read, write and display; ROIs"
   ]
  },
  {
   "cell_type": "code",
   "execution_count": 3,
   "metadata": {},
   "outputs": [],
   "source": [
    "# Opening an image\n",
    "img = cv2.imread('image.jpg')\n",
    "\n",
    "# Showing the image\n",
    "cv2.imshow(\"image.jpg\", img)\n",
    "\n",
    "# Waiting for user to press a key to close the image\n",
    "cv2.waitKey(0)\n",
    "\n",
    "# Close the window after user pressed a key\n",
    "cv2.destroyAllWindows()"
   ]
  },
  {
   "cell_type": "code",
   "execution_count": 4,
   "metadata": {},
   "outputs": [
    {
     "name": "stdout",
     "output_type": "stream",
     "text": [
      "height: 768\n",
      "width: 1366\n",
      "channels: 3\n"
     ]
    }
   ],
   "source": [
    "# Check image size\n",
    "h, w, c = img.shape\n",
    "print(f'height: {h}')\n",
    "print(f'width: {w}')\n",
    "print(f'channels: {c}')"
   ]
  },
  {
   "cell_type": "code",
   "execution_count": 5,
   "metadata": {},
   "outputs": [
    {
     "data": {
      "text/plain": [
       "True"
      ]
     },
     "execution_count": 5,
     "metadata": {},
     "output_type": "execute_result"
    }
   ],
   "source": [
    "# Saving image in bmp format\n",
    "cv2.imwrite('new_image.bmp', img)"
   ]
  },
  {
   "cell_type": "code",
   "execution_count": 44,
   "metadata": {},
   "outputs": [
    {
     "name": "stdout",
     "output_type": "stream",
     "text": [
      "hey\n"
     ]
    }
   ],
   "source": [
    "# c\n",
    "#show the cursor over the image and display the coordanates and rgb components of the pixel. On left click, user can modify the pixel rgb components\n",
    "from copy import copy\n",
    "def mouse_callback(event, x, y, flags, param):\n",
    "    font = cv2.FONT_HERSHEY_SIMPLEX\n",
    "    b = img[y, x, 0]\n",
    "    g = img[y, x, 1]\n",
    "    r = img[y, x, 2]\n",
    "\n",
    "    color = f'({r}, {g}, {b})'\n",
    "\n",
    "    if event == cv2.EVENT_LBUTTONDOWN:\n",
    "        print(\"hey\")\n",
    "        img[y,x, 2] = int(input(\"r: \"))\n",
    "        img[y,x, 1] = int(input(\"g: \"))\n",
    "        img[y,x, 0] = int(input(\"b: \"))\n",
    "    \n",
    "    img_copy = copy(img)\n",
    "    cv2.putText(img_copy, color, (x, y), font, 1, (255, 255, 0), 2)\n",
    "    cv2.imshow(\"konichiwa\", img_copy)\n",
    "\n",
    "    \n",
    "\n",
    "cv2.namedWindow(\"konichiwa\")\n",
    "cv2.setMouseCallback(\"konichiwa\", mouse_callback)\n",
    "cv2.imshow(\"konichiwa\", img)\n",
    "cv2.waitKey(0)\n",
    "cv2.destroyAllWindows()\n"
   ]
  },
  {
   "cell_type": "code",
   "execution_count": 7,
   "metadata": {},
   "outputs": [],
   "source": [
    "#d \n",
    "drawingRect = False\n",
    "from copy import copy\n",
    "def mouse_callback2(event, x, y, flags, param):\n",
    "    global drawingRect, ix, iy\n",
    "    if event == cv2.EVENT_LBUTTONDOWN:\n",
    "        if drawingRect:\n",
    "            drawingRect = False\n",
    "            cv2.rectangle(img, (ix, iy), (x, y), (0, 255, 0), 2)\n",
    "            cv2.imshow(\"konichiwa\", img)\n",
    "        else:\n",
    "            drawingRect = True\n",
    "            ix, iy = x, y\n",
    "    if drawingRect:\n",
    "        img_copy = copy(img)\n",
    "        cv2.rectangle(img_copy, (ix, iy), (x, y), (0, 255, 0), 2)\n",
    "        cv2.imshow(\"konichiwa\", img_copy)\n",
    "\n",
    "cv2.namedWindow(\"konichiwa\")\n",
    "cv2.setMouseCallback(\"konichiwa\", mouse_callback2)\n",
    "cv2.imshow(\"konichiwa\", img)\n",
    "cv2.waitKey(0)\n",
    "cv2.destroyAllWindows()"
   ]
  },
  {
   "cell_type": "markdown",
   "metadata": {},
   "source": [
    "2. Images – representation, grayscale and color, color spaces"
   ]
  },
  {
   "cell_type": "code",
   "execution_count": 46,
   "metadata": {},
   "outputs": [
    {
     "ename": "error",
     "evalue": "OpenCV(4.7.0) D:\\a\\opencv-python\\opencv-python\\opencv\\modules\\highgui\\src\\window_w32.cpp:1261: error: (-27:Null pointer) NULL window: 'Grayscale image' in function 'cvDestroyWindow'\n",
     "output_type": "error",
     "traceback": [
      "\u001b[1;31m---------------------------------------------------------------------------\u001b[0m",
      "\u001b[1;31merror\u001b[0m                                     Traceback (most recent call last)",
      "\u001b[1;32mc:\\Users\\Viperxyz\\Desktop\\uni\\VC\\exercises\\notebook.ipynb Cell 12\u001b[0m in \u001b[0;36m<cell line: 10>\u001b[1;34m()\u001b[0m\n\u001b[0;32m      <a href='vscode-notebook-cell:/c%3A/Users/Viperxyz/Desktop/uni/VC/exercises/notebook.ipynb#X13sZmlsZQ%3D%3D?line=7'>8</a>\u001b[0m cv2\u001b[39m.\u001b[39mimshow(\u001b[39m'\u001b[39m\u001b[39mGrayscale image\u001b[39m\u001b[39m'\u001b[39m, m)\n\u001b[0;32m      <a href='vscode-notebook-cell:/c%3A/Users/Viperxyz/Desktop/uni/VC/exercises/notebook.ipynb#X13sZmlsZQ%3D%3D?line=8'>9</a>\u001b[0m cv2\u001b[39m.\u001b[39mwaitKey(\u001b[39m0\u001b[39m)\n\u001b[1;32m---> <a href='vscode-notebook-cell:/c%3A/Users/Viperxyz/Desktop/uni/VC/exercises/notebook.ipynb#X13sZmlsZQ%3D%3D?line=9'>10</a>\u001b[0m cv2\u001b[39m.\u001b[39;49mdestroyWindow(\u001b[39m'\u001b[39;49m\u001b[39mGrayscale image\u001b[39;49m\u001b[39m'\u001b[39;49m)\n",
      "\u001b[1;31merror\u001b[0m: OpenCV(4.7.0) D:\\a\\opencv-python\\opencv-python\\opencv\\modules\\highgui\\src\\window_w32.cpp:1261: error: (-27:Null pointer) NULL window: 'Grayscale image' in function 'cvDestroyWindow'\n"
     ]
    }
   ],
   "source": [
    "# Create a white image\n",
    "m = np.ones((100,200,1), np.uint8)\n",
    "\n",
    "# Change the intensity to 100\n",
    "m = m * 100\n",
    "\n",
    "# Display the image\n",
    "cv2.imshow('Grayscale image', m)\n",
    "cv2.waitKey(0)\n",
    "cv2.destroyWindow('Grayscale image')"
   ]
  },
  {
   "cell_type": "code",
   "execution_count": null,
   "metadata": {},
   "outputs": [
    {
     "ename": "error",
     "evalue": "OpenCV(4.7.0) D:\\a\\opencv-python\\opencv-python\\opencv\\modules\\highgui\\src\\window_w32.cpp:1261: error: (-27:Null pointer) NULL window: 'Grayscale image with diagonals' in function 'cvDestroyWindow'\n",
     "output_type": "error",
     "traceback": [
      "\u001b[1;31m---------------------------------------------------------------------------\u001b[0m",
      "\u001b[1;31merror\u001b[0m                                     Traceback (most recent call last)",
      "\u001b[1;32mc:\\Users\\Viperxyz\\Desktop\\uni\\VC\\exercises\\notebook.ipynb Cell 13\u001b[0m in \u001b[0;36m<cell line: 6>\u001b[1;34m()\u001b[0m\n\u001b[0;32m      <a href='vscode-notebook-cell:/c%3A/Users/Viperxyz/Desktop/uni/VC/exercises/notebook.ipynb#X14sZmlsZQ%3D%3D?line=3'>4</a>\u001b[0m cv2\u001b[39m.\u001b[39mimshow(\u001b[39m'\u001b[39m\u001b[39mGrayscale image with diagonals\u001b[39m\u001b[39m'\u001b[39m, m)\n\u001b[0;32m      <a href='vscode-notebook-cell:/c%3A/Users/Viperxyz/Desktop/uni/VC/exercises/notebook.ipynb#X14sZmlsZQ%3D%3D?line=4'>5</a>\u001b[0m cv2\u001b[39m.\u001b[39mwaitKey(\u001b[39m0\u001b[39m)\n\u001b[1;32m----> <a href='vscode-notebook-cell:/c%3A/Users/Viperxyz/Desktop/uni/VC/exercises/notebook.ipynb#X14sZmlsZQ%3D%3D?line=5'>6</a>\u001b[0m cv2\u001b[39m.\u001b[39;49mdestroyWindow(\u001b[39m'\u001b[39;49m\u001b[39mGrayscale image with diagonals\u001b[39;49m\u001b[39m'\u001b[39;49m)\n",
      "\u001b[1;31merror\u001b[0m: OpenCV(4.7.0) D:\\a\\opencv-python\\opencv-python\\opencv\\modules\\highgui\\src\\window_w32.cpp:1261: error: (-27:Null pointer) NULL window: 'Grayscale image with diagonals' in function 'cvDestroyWindow'\n"
     ]
    }
   ],
   "source": [
    "# Draw a line with thickness of 5 px\n",
    "cv2.line(m, (0,0), (100,200), 255, 5)\n",
    "cv2.line(m, (200, 0), (0, 100), 255, 5)\n",
    "cv2.imshow('Grayscale image with diagonals', m)\n",
    "cv2.waitKey(0)\n",
    "cv2.destroyWindow('Grayscale image with diagonals')"
   ]
  },
  {
   "cell_type": "code",
   "execution_count": null,
   "metadata": {},
   "outputs": [],
   "source": [
    "#B)"
   ]
  },
  {
   "cell_type": "markdown",
   "metadata": {},
   "source": [
    "3. Video – acquisition and simple processing"
   ]
  },
  {
   "cell_type": "code",
   "execution_count": null,
   "metadata": {},
   "outputs": [],
   "source": [
    "# Define a VideoCapture Object\n",
    "cap = cv2.VideoCapture(0)\n",
    "if not cap.isOpened():\n",
    "    print(\"Cannot open camera\")\n",
    "    exit()\n",
    "\n",
    "frame_nr = 0\n",
    "while True:\n",
    "    # Capture frame-by-frame\n",
    "    ret, frame = cap.read()\n",
    "    \n",
    "    # If frame is read correctly ret is True\n",
    "    if not ret:\n",
    "        print(\"Can't receive frame (stream end?). Exiting ...\")\n",
    "        break\n",
    "\n",
    "    # Display the resulting frame\n",
    "    cv2.imshow('webcam', frame)\n",
    "\n",
    "    # Wait for user to press s to save frame\n",
    "    if cv2.waitKey(1) == ord('s'):\n",
    "        frame_name = 'frame' + str(frame_nr) + '.png'\n",
    "        cv2.imwrite(frame_name, frame)\n",
    "        cv2.imshow(\"Saved frame: \" + frame_name, frame)\n",
    "        cv2.waitKey(0)\n",
    "        cv2.destroyWindow(\"Saved frame: \" + frame_name)\n",
    "\n",
    "    # Wait for user to press q to quit\n",
    "    if cv2.waitKey(1) == ord('q'):\n",
    "        break\n",
    "\n",
    "    frame_nr += 1\n",
    "\n",
    "# When everything is done, release the capture\n",
    "cap.release()\n",
    "cv2.destroyAllWindows()"
   ]
  },
  {
   "cell_type": "code",
   "execution_count": null,
   "metadata": {},
   "outputs": [],
   "source": [
    "# Continue exercises 3 b), c) and d)"
   ]
  }
 ],
 "metadata": {
  "kernelspec": {
   "display_name": "Python 3",
   "language": "python",
   "name": "python3"
  },
  "language_info": {
   "codemirror_mode": {
    "name": "ipython",
    "version": 3
   },
   "file_extension": ".py",
   "mimetype": "text/x-python",
   "name": "python",
   "nbconvert_exporter": "python",
   "pygments_lexer": "ipython3",
   "version": "3.9.1"
  },
  "orig_nbformat": 2,
  "vscode": {
   "interpreter": {
    "hash": "2cbfa79b53c6b6f1f9ffe3845ccf00589c117c88e4adf6fddbdc7fc104df9617"
   }
  }
 },
 "nbformat": 4,
 "nbformat_minor": 2
}
